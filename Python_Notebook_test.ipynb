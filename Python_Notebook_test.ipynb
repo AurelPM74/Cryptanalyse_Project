{
 "cells": [
  {
   "cell_type": "code",
   "execution_count": 2,
   "id": "fb98f0cf",
   "metadata": {},
   "outputs": [
    {
     "name": "stdout",
     "output_type": "stream",
     "text": [
      "The length of the sequence is: 47\n"
     ]
    }
   ],
   "source": [
    "binary_sequence = [0, 1, 0, 0, 0, 0, 0, 0, 0, 0, 0, 0, 0, 0, 1, 1, 0, 0, 0, 0, 1, 1, 0, 1, 0, 1, 0, 0, 0, 0, 0, 0, 0, 0, 0, 0, 0, 1, 1, 0, 0, 0, 0, 1, 1, 0, 1]\n",
    "\n",
    "length_of_sequence = len(binary_sequence)\n",
    "\n",
    "print(f\"The length of the sequence is: {length_of_sequence}\")"
   ]
  },
  {
   "cell_type": "code",
   "execution_count": 1,
   "id": "ffd85f89",
   "metadata": {},
   "outputs": [],
   "source": [
    "#This is a comment to seeif github is set correctly"
   ]
  },
  {
   "cell_type": "code",
   "execution_count": null,
   "id": "ad349807",
   "metadata": {},
   "outputs": [],
   "source": []
  }
 ],
 "metadata": {
  "kernelspec": {
   "display_name": "Python 3 (ipykernel)",
   "language": "python",
   "name": "python3"
  },
  "language_info": {
   "codemirror_mode": {
    "name": "ipython",
    "version": 3
   },
   "file_extension": ".py",
   "mimetype": "text/x-python",
   "name": "python",
   "nbconvert_exporter": "python",
   "pygments_lexer": "ipython3",
   "version": "3.11.2"
  }
 },
 "nbformat": 4,
 "nbformat_minor": 5
}
